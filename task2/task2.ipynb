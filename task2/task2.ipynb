{
 "cells": [
  {
   "cell_type": "markdown",
   "metadata": {},
   "source": [
    "##  Поднятие сервера PostgreSQL в Docker"
   ]
  },
  {
   "cell_type": "code",
   "execution_count": 4,
   "metadata": {},
   "outputs": [
    {
     "name": "stderr",
     "output_type": "stream",
     "text": [
      " Container test_task-db-1  Recreate\n",
      " Container test_task-db-1  Recreated\n",
      " Container test_task-db-1  Starting\n",
      " Container test_task-db-1  Started\n"
     ]
    }
   ],
   "source": [
    "! docker-compose up -d"
   ]
  },
  {
   "cell_type": "code",
   "execution_count": 174,
   "metadata": {},
   "outputs": [],
   "source": [
    "import psycopg2"
   ]
  },
  {
   "cell_type": "markdown",
   "metadata": {},
   "source": [
    "## Получение доступа к PostgreSQL с помощью psycopg2"
   ]
  },
  {
   "cell_type": "code",
   "execution_count": 175,
   "metadata": {},
   "outputs": [],
   "source": [
    "db_host = 'localhost'\n",
    "db_port = '5432'\n",
    "db_name = 'test'\n",
    "db_user = 'postgres'\n",
    "db_password = 'postgres'  \n",
    "\n",
    "def create_connection():\n",
    "    conn = psycopg2.connect(\n",
    "        host=db_host,\n",
    "        port=db_port,\n",
    "        dbname=db_name,\n",
    "        user=db_user,\n",
    "        password=db_password\n",
    "    )\n",
    "    return conn\n"
   ]
  },
  {
   "cell_type": "code",
   "execution_count": 179,
   "metadata": {},
   "outputs": [],
   "source": [
    "conn = create_connection()"
   ]
  },
  {
   "cell_type": "code",
   "execution_count": 180,
   "metadata": {},
   "outputs": [],
   "source": [
    "cur = conn.cursor()"
   ]
  },
  {
   "cell_type": "markdown",
   "metadata": {},
   "source": [
    "## Проверка коннекшн(на тестовой таблице **test**)."
   ]
  },
  {
   "cell_type": "code",
   "execution_count": 181,
   "metadata": {},
   "outputs": [],
   "source": [
    "query = '''create table if not exists test(\n",
    "    test_id serial primary key,\n",
    "    name varchar(20)\n",
    "    );'''\n",
    "cur.execute(query)"
   ]
  },
  {
   "cell_type": "code",
   "execution_count": 182,
   "metadata": {},
   "outputs": [
    {
     "name": "stdout",
     "output_type": "stream",
     "text": [
      "[]\n"
     ]
    }
   ],
   "source": [
    "query = '''select * from test;'''\n",
    "cur.execute(query)\n",
    "result = cur.fetchall()\n",
    "print(result)\n"
   ]
  },
  {
   "cell_type": "code",
   "execution_count": 183,
   "metadata": {},
   "outputs": [],
   "source": [
    "query = '''insert into test(name) values ('Brian');'''\n",
    "cur.execute(query)\n"
   ]
  },
  {
   "cell_type": "code",
   "execution_count": 184,
   "metadata": {},
   "outputs": [
    {
     "name": "stdout",
     "output_type": "stream",
     "text": [
      "[(1, 'Brian')]\n"
     ]
    }
   ],
   "source": [
    "query = '''select * from test;'''\n",
    "cur.execute(query)\n",
    "result = cur.fetchall()\n",
    "print(result)"
   ]
  },
  {
   "cell_type": "code",
   "execution_count": 185,
   "metadata": {},
   "outputs": [],
   "source": [
    "conn.commit()\n",
    "conn.close()"
   ]
  },
  {
   "cell_type": "markdown",
   "metadata": {},
   "source": [
    "## Создание связей (relations) в PostgreSQL\n",
    "\n",
    "book_store:\n",
    "    \n",
    "    book_id типа serial - это уникальный идентификатор книги, который автоматически инкрементируется.\n",
    "    name типа varchar(30) - это название книги, которое может содержать до 30 символов.\n",
    "    author_id типа int - это внешний ключ, который ссылается на **author_id** в таблице author.\n",
    "    genre_id типа int - это внешний ключ, который ссылается на **genre_id** в таблице genre.\n",
    "    amount типа int - это количество книг в наличии.\n",
    "    price типа decimal(8, 2) - это цена книги, представленная числом с двумя знаками после запятой.\n",
    "\n",
    "genre:\n",
    "    \n",
    "    genre_id типа serial - это уникальный идентификатор жанра, который автоматически инкрементируется.\n",
    "    name типа varchar(30) - это название жанра, которое может содержать до 30 символов.\n",
    "\n",
    "author:\n",
    "    \n",
    "    author_id типа serial - это уникальный идентификатор автора, который автоматически инкрементируется.\n",
    "    name типа varchar(30) - это имя автора, которое может содержать до 30 символов."
   ]
  },
  {
   "cell_type": "code",
   "execution_count": 186,
   "metadata": {},
   "outputs": [],
   "source": [
    "conn = create_connection()\n",
    "cur = conn.cursor()\n",
    "\n",
    "table_name = 'author'\n",
    "query = f'''create table if not exists {table_name} (\n",
    "    author_id serial primary key,\n",
    "    name varchar(30)\n",
    ")'''\n",
    "\n",
    "cur.execute(query)\n",
    "conn.commit()\n",
    "\n",
    "table_name = 'genre'\n",
    "query = f'''create table if not exists {table_name} (\n",
    "    genre_id serial primary key,\n",
    "    name varchar(30)\n",
    ")'''\n",
    "\n",
    "cur.execute(query)\n",
    "conn.commit()\n",
    "\n",
    "table_name = 'book_store'\n",
    "query = f'''create table if not exists {table_name} (\n",
    "    book_id serial primary key,\n",
    "    name varchar(30),\n",
    "    author_id int,\n",
    "    genre_id int,\n",
    "    amount int,\n",
    "    price decimal(8, 2),\n",
    "    \n",
    "    foreign key(author_id) references author(author_id) on delete cascade,\n",
    "    foreign key(genre_id) references genre(genre_id) on delete cascade\n",
    ")'''\n",
    "\n",
    "cur.execute(query)\n",
    "conn.commit()"
   ]
  },
  {
   "cell_type": "markdown",
   "metadata": {},
   "source": [
    "## Функции для добавления, извлечения, обновления и удаления данных"
   ]
  },
  {
   "cell_type": "code",
   "execution_count": 187,
   "metadata": {},
   "outputs": [],
   "source": [
    "def insert(table_name, column_names, value_names, conn = conn):\n",
    "    cur = conn.cursor()\n",
    "    cur.execute(f\"insert into {table_name}({column_names}) values({value_names})\")\n",
    "    conn.commit()\n",
    "\n",
    "def select(table_name, columns = '*', conn = conn):\n",
    "    cur = conn.cursor()\n",
    "    cur.execute(f\"select {columns} from {table_name}\")\n",
    "    result = cur.fetchall()\n",
    "    return result\n",
    "\n",
    "def delete(table_name, where_clause, conn = conn):\n",
    "    cur = conn.cursor()\n",
    "    cur.execute(f\"delete from {table_name} where {where_clause}\")\n",
    "    conn.commit()\n",
    "\n",
    "def update(table_name, set_clause, where_clause, conn = conn):\n",
    "    cur=conn.cursor()\n",
    "    cur.execute(f\"update {table_name} set {set_clause} where {where_clause}\")\n",
    "    conn.commit()"
   ]
  },
  {
   "cell_type": "code",
   "execution_count": 188,
   "metadata": {},
   "outputs": [
    {
     "name": "stdout",
     "output_type": "stream",
     "text": [
      "[(1, 'Action'), (2, 'Comedy'), (3, 'Adventure')]\n"
     ]
    }
   ],
   "source": [
    "insert(table_name = 'genre', column_names = 'name', value_names = \"'Action'\")\n",
    "insert(table_name = 'genre', column_names = 'name', value_names = \"'Comedy'\")\n",
    "insert(table_name = 'genre', column_names = 'name', value_names = \"'Adventure'\")\n",
    "print(select('genre'))\n"
   ]
  },
  {
   "cell_type": "code",
   "execution_count": 189,
   "metadata": {},
   "outputs": [
    {
     "name": "stdout",
     "output_type": "stream",
     "text": [
      "[(1, 'John'), (2, 'Oscar'), (3, 'Michael')]\n"
     ]
    }
   ],
   "source": [
    "insert(table_name = 'author', column_names = 'name', value_names = \"'John'\")\n",
    "insert(table_name = 'author', column_names = 'name', value_names = \"'Oscar'\")\n",
    "insert(table_name = 'author', column_names = 'name', value_names = \"'Michael'\")\n",
    "print(select('author'))"
   ]
  },
  {
   "cell_type": "code",
   "execution_count": 190,
   "metadata": {},
   "outputs": [
    {
     "name": "stdout",
     "output_type": "stream",
     "text": [
      "[(1, 'Tree', 1, 2, 5, Decimal('8.32')), (2, 'Random Name', 3, 1, 2, Decimal('14.53'))]\n"
     ]
    }
   ],
   "source": [
    "insert(table_name = 'book_store', column_names = 'name, author_id, genre_id, amount, price', value_names = \"'Tree', 1, 2, 5, 8.32\")\n",
    "insert(table_name = 'book_store', column_names = 'name, author_id, genre_id, amount, price', value_names = \"'Random Name', 3, 1, 2, 14.53\")\n",
    "print(select('book_store'))"
   ]
  },
  {
   "cell_type": "code",
   "execution_count": 191,
   "metadata": {},
   "outputs": [
    {
     "name": "stdout",
     "output_type": "stream",
     "text": [
      "[(1, 'Action'), (2, 'Comedy'), (3, 'Thriller')]\n"
     ]
    }
   ],
   "source": [
    "update(table_name = 'genre', set_clause = \"name = 'Thriller'\", where_clause = \"name = 'Adventure'\")\n",
    "print(select('genre'))\n"
   ]
  },
  {
   "cell_type": "code",
   "execution_count": 192,
   "metadata": {},
   "outputs": [
    {
     "name": "stdout",
     "output_type": "stream",
     "text": [
      "[(2, 'Random Name', 3, 1, 2, Decimal('14.53'))]\n"
     ]
    }
   ],
   "source": [
    "delete(table_name = 'book_store', where_clause = \"book_id = 1\")\n",
    "print(select('book_store'))"
   ]
  },
  {
   "cell_type": "code",
   "execution_count": 193,
   "metadata": {},
   "outputs": [],
   "source": [
    "conn.close()"
   ]
  }
 ],
 "metadata": {
  "kernelspec": {
   "display_name": "cv",
   "language": "python",
   "name": "python3"
  },
  "language_info": {
   "codemirror_mode": {
    "name": "ipython",
    "version": 3
   },
   "file_extension": ".py",
   "mimetype": "text/x-python",
   "name": "python",
   "nbconvert_exporter": "python",
   "pygments_lexer": "ipython3",
   "version": "3.11.4"
  },
  "orig_nbformat": 4
 },
 "nbformat": 4,
 "nbformat_minor": 2
}
