{
 "cells": [
  {
   "cell_type": "code",
   "execution_count": 18,
   "metadata": {},
   "outputs": [],
   "source": [
    "import os\n",
    "from google.auth.transport.requests import Request\n",
    "from google.oauth2.credentials import Credentials\n",
    "from google_auth_oauthlib.flow import InstalledAppFlow\n",
    "from googleapiclient.discovery import build\n",
    "from googleapiclient.errors import HttpError\n",
    "import pandas as pd"
   ]
  },
  {
   "cell_type": "markdown",
   "metadata": {},
   "source": [
    "### SCOPES: \n",
    "\n",
    "Это переменная, которая определяет разрешения (scopes) для доступа к Google Sheets. \n",
    "\n",
    "### SPREADSHEED_ID: \n",
    "\n",
    "Это переменная, которая хранит уникальный идентификатор (ID) для конкретной таблицы Google Sheets. "
   ]
  },
  {
   "cell_type": "code",
   "execution_count": 2,
   "metadata": {},
   "outputs": [],
   "source": [
    "SCOPES = ['https://www.googleapis.com/auth/spreadsheets']\n",
    "SPREADSHEED_ID = '1qu1g_wCtd09UIudJ01dpMnrFFVVJQsoQFsjipSRlPso'"
   ]
  },
  {
   "cell_type": "markdown",
   "metadata": {},
   "source": [
    " ### Получению учетных данных (credentials) для взаимодействия с Google Sheets через Google API"
   ]
  },
  {
   "cell_type": "code",
   "execution_count": 25,
   "metadata": {},
   "outputs": [],
   "source": [
    "credentials = None\n",
    "\n",
    "if os.path.exists('token.json'):\n",
    "    credentials = Credentials.from_authorized_user_file('token.json', SCOPES)\n",
    "\n",
    "if not credentials or not credentials.valid:\n",
    "    if credentials and credentials.expired and credentials.refresh_token:\n",
    "        credentials.refresh(Request())\n",
    "    else:\n",
    "        flow = InstalledAppFlow.from_client_secrets_file('creds.json', SCOPES)\n",
    "        credentials = flow.run_local_server(port=0)\n",
    "    with open('token.json', 'w') as token:\n",
    "        token.write(credentials.to_json())"
   ]
  },
  {
   "cell_type": "markdown",
   "metadata": {},
   "source": [
    "### Контент Google Sheets до тестовых операций"
   ]
  },
  {
   "cell_type": "code",
   "execution_count": 27,
   "metadata": {},
   "outputs": [
    {
     "name": "stdout",
     "output_type": "stream",
     "text": [
      "      0     1    2         3\n",
      "0  num1  num2  sum      need\n",
      "1     1     1       Not Done\n",
      "2     2     2       Not Done\n",
      "3     3     3       Not Done\n",
      "4     4     4       Not Done\n",
      "5     5     5       Not Done\n"
     ]
    }
   ],
   "source": [
    "try: \n",
    "    service = build('sheets', 'v4', credentials=credentials)\n",
    "    sheets = service.spreadsheets()\n",
    "    \n",
    "    # initial values\n",
    "    result = sheets.values().get(spreadsheetId = SPREADSHEED_ID, range='Sheet1').execute()\n",
    "    values = result.get('values', [])\n",
    "    print(pd.DataFrame(values))\n",
    "\n",
    "\n",
    "except HttpError as er:\n",
    "    print(er)"
   ]
  },
  {
   "cell_type": "markdown",
   "metadata": {},
   "source": [
    "## Тестовые операции:\n",
    "\n",
    "**num1** = получает значение из столбца A для текущей строки.\n",
    "\n",
    "**num2** = получает значение из столбца B для текущей строки.\n",
    "\n",
    "**sum_res** = сумма значений из столбца A и B для текущей строки, который отправляется как новое значение суммы в ячейку C текущей строки."
   ]
  },
  {
   "cell_type": "code",
   "execution_count": 35,
   "metadata": {},
   "outputs": [
    {
     "name": "stdout",
     "output_type": "stream",
     "text": [
      "1 1 2\n",
      "2 2 4\n",
      "3 3 6\n",
      "4 4 8\n",
      "5 5 10\n"
     ]
    }
   ],
   "source": [
    "try: \n",
    "    service = build('sheets', 'v4', credentials=credentials)\n",
    "    sheets = service.spreadsheets()\n",
    "    \n",
    "    for row in range(2,7):\n",
    "        num1 = int(sheets.values().get(spreadsheetId = SPREADSHEED_ID, range=f'Sheet1!A{row}').execute().get('values')[0][0])\n",
    "        num2 = int(sheets.values().get(spreadsheetId = SPREADSHEED_ID, range=f'Sheet1!B{row}').execute().get('values')[0][0])\n",
    "        print(num1, num2, sum_res := num1+num2)\n",
    "\n",
    "        sheets.values().update(spreadsheetId = SPREADSHEED_ID, range=f'Sheet1!C{row}', valueInputOption=\"USER_ENTERED\", body={'values': [[f'{sum_res}']]}).execute()\n",
    "        \n",
    "        sheets.values().update(spreadsheetId = SPREADSHEED_ID, range=f'Sheet1!D{row}', valueInputOption=\"USER_ENTERED\", body={'values': [['Done']]}).execute()\n",
    "\n",
    "except HttpError as er:\n",
    "    print(er)"
   ]
  },
  {
   "cell_type": "markdown",
   "metadata": {},
   "source": [
    "### Контент Google Sheets после тестовых операций"
   ]
  },
  {
   "cell_type": "code",
   "execution_count": 36,
   "metadata": {},
   "outputs": [
    {
     "name": "stdout",
     "output_type": "stream",
     "text": [
      "      0     1    2     3\n",
      "0  num1  num2  sum  need\n",
      "1     1     1    2  Done\n",
      "2     2     2    4  Done\n",
      "3     3     3    6  Done\n",
      "4     4     4    8  Done\n",
      "5     5     5   10  Done\n"
     ]
    }
   ],
   "source": [
    "try: \n",
    "    service = build('sheets', 'v4', credentials=credentials)\n",
    "    sheets = service.spreadsheets()\n",
    "    \n",
    "    # initial values\n",
    "    result = sheets.values().get(spreadsheetId = SPREADSHEED_ID, range='Sheet1').execute()\n",
    "    values = result.get('values', [])\n",
    "    print(pd.DataFrame(values))\n",
    "\n",
    "\n",
    "except HttpError as er:\n",
    "    print(er)"
   ]
  }
 ],
 "metadata": {
  "kernelspec": {
   "display_name": "cv",
   "language": "python",
   "name": "python3"
  },
  "language_info": {
   "codemirror_mode": {
    "name": "ipython",
    "version": 3
   },
   "file_extension": ".py",
   "mimetype": "text/x-python",
   "name": "python",
   "nbconvert_exporter": "python",
   "pygments_lexer": "ipython3",
   "version": "3.11.4"
  },
  "orig_nbformat": 4
 },
 "nbformat": 4,
 "nbformat_minor": 2
}
